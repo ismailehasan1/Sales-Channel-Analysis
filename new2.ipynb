{
 "cells": [
  {
   "cell_type": "code",
   "execution_count": 2,
   "id": "adfb5dcd-e6d5-4ce2-b067-0f3cba154190",
   "metadata": {},
   "outputs": [],
   "source": [
    "import pandas as pd\n",
    "import matplotlib.pyplot as plt\n",
    "import seaborn as sns\n",
    "import numpy as np\n"
   ]
  },
  {
   "cell_type": "code",
   "execution_count": 3,
   "id": "ce4dc6cf-c382-4e86-ba37-597a7de5b084",
   "metadata": {},
   "outputs": [
    {
     "data": {
      "text/plain": [
       "'C:\\\\Users\\\\User'"
      ]
     },
     "execution_count": 3,
     "metadata": {},
     "output_type": "execute_result"
    }
   ],
   "source": [
    "pwd"
   ]
  },
  {
   "cell_type": "code",
   "execution_count": 19,
   "id": "cfe53c42-e0e9-4572-825c-07407ee31e80",
   "metadata": {},
   "outputs": [
    {
     "data": {
      "text/html": [
       "<div>\n",
       "<style scoped>\n",
       "    .dataframe tbody tr th:only-of-type {\n",
       "        vertical-align: middle;\n",
       "    }\n",
       "\n",
       "    .dataframe tbody tr th {\n",
       "        vertical-align: top;\n",
       "    }\n",
       "\n",
       "    .dataframe thead th {\n",
       "        text-align: right;\n",
       "    }\n",
       "</style>\n",
       "<table border=\"1\" class=\"dataframe\">\n",
       "  <thead>\n",
       "    <tr style=\"text-align: right;\">\n",
       "      <th></th>\n",
       "      <th>OrderNumber</th>\n",
       "      <th>Sales Channel</th>\n",
       "      <th>WarehouseCode</th>\n",
       "      <th>ProcuredDate</th>\n",
       "      <th>OrderDate</th>\n",
       "      <th>ShipDate</th>\n",
       "      <th>DeliveryDate</th>\n",
       "      <th>CurrencyCode</th>\n",
       "      <th>_SalesTeamID</th>\n",
       "      <th>_CustomerID</th>\n",
       "      <th>_StoreID</th>\n",
       "      <th>_ProductID</th>\n",
       "      <th>Order Quantity</th>\n",
       "      <th>Discount Applied</th>\n",
       "      <th>Unit Cost</th>\n",
       "      <th>Unit Price</th>\n",
       "    </tr>\n",
       "  </thead>\n",
       "  <tbody>\n",
       "    <tr>\n",
       "      <th>0</th>\n",
       "      <td>SO - 000101</td>\n",
       "      <td>In-Store</td>\n",
       "      <td>WARE-UHY1004</td>\n",
       "      <td>31/12/17</td>\n",
       "      <td>31/5/18</td>\n",
       "      <td>14/6/18</td>\n",
       "      <td>19/6/18</td>\n",
       "      <td>USD</td>\n",
       "      <td>6</td>\n",
       "      <td>15</td>\n",
       "      <td>259</td>\n",
       "      <td>12</td>\n",
       "      <td>5</td>\n",
       "      <td>0.075</td>\n",
       "      <td>1,001.18</td>\n",
       "      <td>1,963.10</td>\n",
       "    </tr>\n",
       "    <tr>\n",
       "      <th>1</th>\n",
       "      <td>SO - 000102</td>\n",
       "      <td>Online</td>\n",
       "      <td>WARE-NMK1003</td>\n",
       "      <td>31/12/17</td>\n",
       "      <td>31/5/18</td>\n",
       "      <td>22/6/18</td>\n",
       "      <td>2/7/2018</td>\n",
       "      <td>USD</td>\n",
       "      <td>14</td>\n",
       "      <td>20</td>\n",
       "      <td>196</td>\n",
       "      <td>27</td>\n",
       "      <td>3</td>\n",
       "      <td>0.075</td>\n",
       "      <td>3,348.66</td>\n",
       "      <td>3,939.60</td>\n",
       "    </tr>\n",
       "    <tr>\n",
       "      <th>2</th>\n",
       "      <td>SO - 000103</td>\n",
       "      <td>Distributor</td>\n",
       "      <td>WARE-UHY1004</td>\n",
       "      <td>31/12/17</td>\n",
       "      <td>31/5/18</td>\n",
       "      <td>21/6/18</td>\n",
       "      <td>1/7/2018</td>\n",
       "      <td>USD</td>\n",
       "      <td>21</td>\n",
       "      <td>16</td>\n",
       "      <td>213</td>\n",
       "      <td>16</td>\n",
       "      <td>1</td>\n",
       "      <td>0.050</td>\n",
       "      <td>781.22</td>\n",
       "      <td>1,775.50</td>\n",
       "    </tr>\n",
       "    <tr>\n",
       "      <th>3</th>\n",
       "      <td>SO - 000104</td>\n",
       "      <td>Wholesale</td>\n",
       "      <td>WARE-NMK1003</td>\n",
       "      <td>31/12/17</td>\n",
       "      <td>31/5/18</td>\n",
       "      <td>2/6/2018</td>\n",
       "      <td>7/6/2018</td>\n",
       "      <td>USD</td>\n",
       "      <td>28</td>\n",
       "      <td>48</td>\n",
       "      <td>107</td>\n",
       "      <td>23</td>\n",
       "      <td>8</td>\n",
       "      <td>0.075</td>\n",
       "      <td>1,464.69</td>\n",
       "      <td>2,324.90</td>\n",
       "    </tr>\n",
       "    <tr>\n",
       "      <th>4</th>\n",
       "      <td>SO - 000105</td>\n",
       "      <td>Distributor</td>\n",
       "      <td>WARE-NMK1003</td>\n",
       "      <td>10/4/2018</td>\n",
       "      <td>31/5/18</td>\n",
       "      <td>16/6/18</td>\n",
       "      <td>26/6/18</td>\n",
       "      <td>USD</td>\n",
       "      <td>22</td>\n",
       "      <td>49</td>\n",
       "      <td>111</td>\n",
       "      <td>26</td>\n",
       "      <td>8</td>\n",
       "      <td>0.100</td>\n",
       "      <td>1,476.14</td>\n",
       "      <td>1,822.40</td>\n",
       "    </tr>\n",
       "    <tr>\n",
       "      <th>5</th>\n",
       "      <td>SO - 000106</td>\n",
       "      <td>Online</td>\n",
       "      <td>WARE-PUJ1005</td>\n",
       "      <td>31/12/17</td>\n",
       "      <td>31/5/18</td>\n",
       "      <td>8/6/2018</td>\n",
       "      <td>13/6/18</td>\n",
       "      <td>USD</td>\n",
       "      <td>12</td>\n",
       "      <td>21</td>\n",
       "      <td>285</td>\n",
       "      <td>1</td>\n",
       "      <td>5</td>\n",
       "      <td>0.050</td>\n",
       "      <td>446.56</td>\n",
       "      <td>1,038.50</td>\n",
       "    </tr>\n",
       "    <tr>\n",
       "      <th>6</th>\n",
       "      <td>SO - 000107</td>\n",
       "      <td>In-Store</td>\n",
       "      <td>WARE-XYS1001</td>\n",
       "      <td>31/12/17</td>\n",
       "      <td>31/5/18</td>\n",
       "      <td>8/6/2018</td>\n",
       "      <td>14/6/18</td>\n",
       "      <td>USD</td>\n",
       "      <td>10</td>\n",
       "      <td>14</td>\n",
       "      <td>6</td>\n",
       "      <td>5</td>\n",
       "      <td>4</td>\n",
       "      <td>0.150</td>\n",
       "      <td>536.67</td>\n",
       "      <td>1,192.60</td>\n",
       "    </tr>\n",
       "    <tr>\n",
       "      <th>7</th>\n",
       "      <td>SO - 000108</td>\n",
       "      <td>In-Store</td>\n",
       "      <td>WARE-PUJ1005</td>\n",
       "      <td>10/4/2018</td>\n",
       "      <td>31/5/18</td>\n",
       "      <td>26/6/18</td>\n",
       "      <td>1/7/2018</td>\n",
       "      <td>USD</td>\n",
       "      <td>6</td>\n",
       "      <td>9</td>\n",
       "      <td>280</td>\n",
       "      <td>46</td>\n",
       "      <td>5</td>\n",
       "      <td>0.050</td>\n",
       "      <td>1,525.19</td>\n",
       "      <td>1,815.70</td>\n",
       "    </tr>\n",
       "    <tr>\n",
       "      <th>8</th>\n",
       "      <td>SO - 000109</td>\n",
       "      <td>In-Store</td>\n",
       "      <td>WARE-PUJ1005</td>\n",
       "      <td>31/12/17</td>\n",
       "      <td>1/6/2018</td>\n",
       "      <td>16/6/18</td>\n",
       "      <td>21/6/18</td>\n",
       "      <td>USD</td>\n",
       "      <td>4</td>\n",
       "      <td>9</td>\n",
       "      <td>299</td>\n",
       "      <td>47</td>\n",
       "      <td>4</td>\n",
       "      <td>0.300</td>\n",
       "      <td>2,211.20</td>\n",
       "      <td>3,879.30</td>\n",
       "    </tr>\n",
       "    <tr>\n",
       "      <th>9</th>\n",
       "      <td>SO - 000110</td>\n",
       "      <td>In-Store</td>\n",
       "      <td>WARE-UHY1004</td>\n",
       "      <td>31/12/17</td>\n",
       "      <td>1/6/2018</td>\n",
       "      <td>29/6/18</td>\n",
       "      <td>1/7/2018</td>\n",
       "      <td>USD</td>\n",
       "      <td>10</td>\n",
       "      <td>33</td>\n",
       "      <td>261</td>\n",
       "      <td>13</td>\n",
       "      <td>8</td>\n",
       "      <td>0.050</td>\n",
       "      <td>1,212.97</td>\n",
       "      <td>1,956.40</td>\n",
       "    </tr>\n",
       "    <tr>\n",
       "      <th>10</th>\n",
       "      <td>SO - 000111</td>\n",
       "      <td>Distributor</td>\n",
       "      <td>WARE-XYS1001</td>\n",
       "      <td>31/12/17</td>\n",
       "      <td>1/6/2018</td>\n",
       "      <td>15/6/18</td>\n",
       "      <td>20/6/18</td>\n",
       "      <td>USD</td>\n",
       "      <td>23</td>\n",
       "      <td>21</td>\n",
       "      <td>17</td>\n",
       "      <td>38</td>\n",
       "      <td>6</td>\n",
       "      <td>0.100</td>\n",
       "      <td>124.62</td>\n",
       "      <td>201</td>\n",
       "    </tr>\n",
       "    <tr>\n",
       "      <th>11</th>\n",
       "      <td>SO - 000112</td>\n",
       "      <td>In-Store</td>\n",
       "      <td>WARE-NMK1003</td>\n",
       "      <td>10/4/2018</td>\n",
       "      <td>1/6/2018</td>\n",
       "      <td>7/6/2018</td>\n",
       "      <td>17/6/18</td>\n",
       "      <td>USD</td>\n",
       "      <td>10</td>\n",
       "      <td>21</td>\n",
       "      <td>152</td>\n",
       "      <td>40</td>\n",
       "      <td>5</td>\n",
       "      <td>0.150</td>\n",
       "      <td>2,762.28</td>\n",
       "      <td>6,277.90</td>\n",
       "    </tr>\n",
       "    <tr>\n",
       "      <th>12</th>\n",
       "      <td>SO - 000113</td>\n",
       "      <td>In-Store</td>\n",
       "      <td>WARE-PUJ1005</td>\n",
       "      <td>10/4/2018</td>\n",
       "      <td>1/6/2018</td>\n",
       "      <td>22/6/18</td>\n",
       "      <td>2/7/2018</td>\n",
       "      <td>USD</td>\n",
       "      <td>4</td>\n",
       "      <td>36</td>\n",
       "      <td>317</td>\n",
       "      <td>39</td>\n",
       "      <td>5</td>\n",
       "      <td>0.050</td>\n",
       "      <td>641.66</td>\n",
       "      <td>1,051.90</td>\n",
       "    </tr>\n",
       "    <tr>\n",
       "      <th>13</th>\n",
       "      <td>SO - 000114</td>\n",
       "      <td>In-Store</td>\n",
       "      <td>WARE-PUJ1005</td>\n",
       "      <td>10/4/2018</td>\n",
       "      <td>1/6/2018</td>\n",
       "      <td>7/6/2018</td>\n",
       "      <td>15/6/18</td>\n",
       "      <td>USD</td>\n",
       "      <td>8</td>\n",
       "      <td>17</td>\n",
       "      <td>291</td>\n",
       "      <td>32</td>\n",
       "      <td>6</td>\n",
       "      <td>0.150</td>\n",
       "      <td>216.41</td>\n",
       "      <td>254.6</td>\n",
       "    </tr>\n",
       "    <tr>\n",
       "      <th>14</th>\n",
       "      <td>SO - 000115</td>\n",
       "      <td>In-Store</td>\n",
       "      <td>WARE-NMK1003</td>\n",
       "      <td>31/12/17</td>\n",
       "      <td>1/6/2018</td>\n",
       "      <td>15/6/18</td>\n",
       "      <td>20/6/18</td>\n",
       "      <td>USD</td>\n",
       "      <td>9</td>\n",
       "      <td>32</td>\n",
       "      <td>138</td>\n",
       "      <td>6</td>\n",
       "      <td>6</td>\n",
       "      <td>NaN</td>\n",
       "      <td>3,146.32</td>\n",
       "      <td>3,932.90</td>\n",
       "    </tr>\n",
       "    <tr>\n",
       "      <th>15</th>\n",
       "      <td>SO - 000116</td>\n",
       "      <td>In-Store</td>\n",
       "      <td>WARE-MKL1006</td>\n",
       "      <td>31/12/17</td>\n",
       "      <td>1/6/2018</td>\n",
       "      <td>24/6/18</td>\n",
       "      <td>2/7/2018</td>\n",
       "      <td>USD</td>\n",
       "      <td>5</td>\n",
       "      <td>11</td>\n",
       "      <td>354</td>\n",
       "      <td>25</td>\n",
       "      <td>3</td>\n",
       "      <td>0.050</td>\n",
       "      <td>700.69</td>\n",
       "      <td>1,112.20</td>\n",
       "    </tr>\n",
       "    <tr>\n",
       "      <th>16</th>\n",
       "      <td>SO - 000117</td>\n",
       "      <td>In-Store</td>\n",
       "      <td>WARE-PUJ1005</td>\n",
       "      <td>10/4/2018</td>\n",
       "      <td>1/6/2018</td>\n",
       "      <td>19/6/18</td>\n",
       "      <td>27/6/18</td>\n",
       "      <td>USD</td>\n",
       "      <td>9</td>\n",
       "      <td>10</td>\n",
       "      <td>320</td>\n",
       "      <td>6</td>\n",
       "      <td>3</td>\n",
       "      <td>0.075</td>\n",
       "      <td>904.84</td>\n",
       "      <td>1,239.50</td>\n",
       "    </tr>\n",
       "    <tr>\n",
       "      <th>17</th>\n",
       "      <td>SO - 000118</td>\n",
       "      <td>In-Store</td>\n",
       "      <td>WARE-XYS1001</td>\n",
       "      <td>10/4/2018</td>\n",
       "      <td>1/6/2018</td>\n",
       "      <td>6/6/2018</td>\n",
       "      <td>14/6/18</td>\n",
       "      <td>USD</td>\n",
       "      <td>8</td>\n",
       "      <td>30</td>\n",
       "      <td>21</td>\n",
       "      <td>3</td>\n",
       "      <td>4</td>\n",
       "      <td>NaN</td>\n",
       "      <td>393.96</td>\n",
       "      <td>984.9</td>\n",
       "    </tr>\n",
       "    <tr>\n",
       "      <th>18</th>\n",
       "      <td>SO - 000119</td>\n",
       "      <td>In-Store</td>\n",
       "      <td>WARE-MKL1006</td>\n",
       "      <td>10/4/2018</td>\n",
       "      <td>1/6/2018</td>\n",
       "      <td>7/6/2018</td>\n",
       "      <td>15/6/18</td>\n",
       "      <td>USD</td>\n",
       "      <td>5</td>\n",
       "      <td>5</td>\n",
       "      <td>349</td>\n",
       "      <td>20</td>\n",
       "      <td>4</td>\n",
       "      <td>0.100</td>\n",
       "      <td>4,130.01</td>\n",
       "      <td>5,581.10</td>\n",
       "    </tr>\n",
       "    <tr>\n",
       "      <th>19</th>\n",
       "      <td>SO - 000120</td>\n",
       "      <td>Online</td>\n",
       "      <td>WARE-NMK1003</td>\n",
       "      <td>31/12/17</td>\n",
       "      <td>1/6/2018</td>\n",
       "      <td>11/6/2018</td>\n",
       "      <td>17/6/18</td>\n",
       "      <td>USD</td>\n",
       "      <td>14</td>\n",
       "      <td>23</td>\n",
       "      <td>134</td>\n",
       "      <td>24</td>\n",
       "      <td>4</td>\n",
       "      <td>0.050</td>\n",
       "      <td>1,795.33</td>\n",
       "      <td>3,095.40</td>\n",
       "    </tr>\n",
       "  </tbody>\n",
       "</table>\n",
       "</div>"
      ],
      "text/plain": [
       "    OrderNumber Sales Channel WarehouseCode ProcuredDate OrderDate   ShipDate  \\\n",
       "0   SO - 000101      In-Store  WARE-UHY1004     31/12/17   31/5/18    14/6/18   \n",
       "1   SO - 000102        Online  WARE-NMK1003     31/12/17   31/5/18    22/6/18   \n",
       "2   SO - 000103   Distributor  WARE-UHY1004     31/12/17   31/5/18    21/6/18   \n",
       "3   SO - 000104     Wholesale  WARE-NMK1003     31/12/17   31/5/18   2/6/2018   \n",
       "4   SO - 000105   Distributor  WARE-NMK1003    10/4/2018   31/5/18    16/6/18   \n",
       "5   SO - 000106        Online  WARE-PUJ1005     31/12/17   31/5/18   8/6/2018   \n",
       "6   SO - 000107      In-Store  WARE-XYS1001     31/12/17   31/5/18   8/6/2018   \n",
       "7   SO - 000108      In-Store  WARE-PUJ1005    10/4/2018   31/5/18    26/6/18   \n",
       "8   SO - 000109      In-Store  WARE-PUJ1005     31/12/17  1/6/2018    16/6/18   \n",
       "9   SO - 000110      In-Store  WARE-UHY1004     31/12/17  1/6/2018    29/6/18   \n",
       "10  SO - 000111   Distributor  WARE-XYS1001     31/12/17  1/6/2018    15/6/18   \n",
       "11  SO - 000112      In-Store  WARE-NMK1003    10/4/2018  1/6/2018   7/6/2018   \n",
       "12  SO - 000113      In-Store  WARE-PUJ1005    10/4/2018  1/6/2018    22/6/18   \n",
       "13  SO - 000114      In-Store  WARE-PUJ1005    10/4/2018  1/6/2018   7/6/2018   \n",
       "14  SO - 000115      In-Store  WARE-NMK1003     31/12/17  1/6/2018    15/6/18   \n",
       "15  SO - 000116      In-Store  WARE-MKL1006     31/12/17  1/6/2018    24/6/18   \n",
       "16  SO - 000117      In-Store  WARE-PUJ1005    10/4/2018  1/6/2018    19/6/18   \n",
       "17  SO - 000118      In-Store  WARE-XYS1001    10/4/2018  1/6/2018   6/6/2018   \n",
       "18  SO - 000119      In-Store  WARE-MKL1006    10/4/2018  1/6/2018   7/6/2018   \n",
       "19  SO - 000120        Online  WARE-NMK1003     31/12/17  1/6/2018  11/6/2018   \n",
       "\n",
       "   DeliveryDate CurrencyCode  _SalesTeamID  _CustomerID  _StoreID  _ProductID  \\\n",
       "0       19/6/18          USD             6           15       259          12   \n",
       "1      2/7/2018          USD            14           20       196          27   \n",
       "2      1/7/2018          USD            21           16       213          16   \n",
       "3      7/6/2018          USD            28           48       107          23   \n",
       "4       26/6/18          USD            22           49       111          26   \n",
       "5       13/6/18          USD            12           21       285           1   \n",
       "6       14/6/18          USD            10           14         6           5   \n",
       "7      1/7/2018          USD             6            9       280          46   \n",
       "8       21/6/18          USD             4            9       299          47   \n",
       "9      1/7/2018          USD            10           33       261          13   \n",
       "10      20/6/18          USD            23           21        17          38   \n",
       "11      17/6/18          USD            10           21       152          40   \n",
       "12     2/7/2018          USD             4           36       317          39   \n",
       "13      15/6/18          USD             8           17       291          32   \n",
       "14      20/6/18          USD             9           32       138           6   \n",
       "15     2/7/2018          USD             5           11       354          25   \n",
       "16      27/6/18          USD             9           10       320           6   \n",
       "17      14/6/18          USD             8           30        21           3   \n",
       "18      15/6/18          USD             5            5       349          20   \n",
       "19      17/6/18          USD            14           23       134          24   \n",
       "\n",
       "    Order Quantity  Discount Applied Unit Cost Unit Price  \n",
       "0                5             0.075  1,001.18   1,963.10  \n",
       "1                3             0.075  3,348.66   3,939.60  \n",
       "2                1             0.050    781.22   1,775.50  \n",
       "3                8             0.075  1,464.69   2,324.90  \n",
       "4                8             0.100  1,476.14   1,822.40  \n",
       "5                5             0.050    446.56   1,038.50  \n",
       "6                4             0.150    536.67   1,192.60  \n",
       "7                5             0.050  1,525.19   1,815.70  \n",
       "8                4             0.300  2,211.20   3,879.30  \n",
       "9                8             0.050  1,212.97   1,956.40  \n",
       "10               6             0.100    124.62        201  \n",
       "11               5             0.150  2,762.28   6,277.90  \n",
       "12               5             0.050    641.66   1,051.90  \n",
       "13               6             0.150    216.41      254.6  \n",
       "14               6               NaN  3,146.32   3,932.90  \n",
       "15               3             0.050    700.69   1,112.20  \n",
       "16               3             0.075    904.84   1,239.50  \n",
       "17               4               NaN    393.96      984.9  \n",
       "18               4             0.100  4,130.01   5,581.10  \n",
       "19               4             0.050  1,795.33   3,095.40  "
      ]
     },
     "execution_count": 19,
     "metadata": {},
     "output_type": "execute_result"
    }
   ],
   "source": [
    "variable = pd.read_csv(r\"C:\\Users\\User\\Desktop\\Python_project\\newxl.csv\")\n",
    "variable.head(20)"
   ]
  },
  {
   "cell_type": "code",
   "execution_count": 5,
   "id": "bef5ec9a-5d50-4213-a10b-a3a40c4b5ded",
   "metadata": {},
   "outputs": [],
   "source": [
    "dataset = pd.read_csv(r\"C:\\Users\\User\\Desktop\\Python_project\\newxl.csv\")"
   ]
  },
  {
   "cell_type": "code",
   "execution_count": 6,
   "id": "ae902e16-09ac-45bc-925b-7202e6ad02ec",
   "metadata": {},
   "outputs": [
    {
     "data": {
      "text/plain": [
       "(7991, 16)"
      ]
     },
     "execution_count": 6,
     "metadata": {},
     "output_type": "execute_result"
    }
   ],
   "source": [
    "dataset.shape"
   ]
  },
  {
   "cell_type": "code",
   "execution_count": 7,
   "id": "bb570952-5c92-422b-8da6-3564d2dd5d39",
   "metadata": {},
   "outputs": [],
   "source": [
    "pd.set_option(\"display.max_columns\",24)"
   ]
  },
  {
   "cell_type": "code",
   "execution_count": 8,
   "id": "51296e7c-922e-4745-9055-528e44a91b24",
   "metadata": {},
   "outputs": [
    {
     "data": {
      "text/plain": [
       "OrderNumber         0\n",
       "Sales Channel       0\n",
       "WarehouseCode       0\n",
       "ProcuredDate        0\n",
       "OrderDate           0\n",
       "ShipDate            0\n",
       "DeliveryDate        0\n",
       "CurrencyCode        0\n",
       "_SalesTeamID        0\n",
       "_CustomerID         0\n",
       "_StoreID            0\n",
       "_ProductID          0\n",
       "Order Quantity      0\n",
       "Discount Applied    3\n",
       "Unit Cost           0\n",
       "Unit Price          0\n",
       "dtype: int64"
      ]
     },
     "execution_count": 8,
     "metadata": {},
     "output_type": "execute_result"
    }
   ],
   "source": [
    "dataset.isnull().sum()"
   ]
  },
  {
   "cell_type": "code",
   "execution_count": 9,
   "id": "9503ce63-dcd3-45e6-a015-f5f6c3216b97",
   "metadata": {},
   "outputs": [],
   "source": [
    "dataset['Discount Applied'].fillna(dataset['Discount Applied'].mean(),inplace=True)"
   ]
  },
  {
   "cell_type": "code",
   "execution_count": 10,
   "id": "84f0c107-6d2f-4bf7-8640-6b1bd520b9a1",
   "metadata": {},
   "outputs": [
    {
     "data": {
      "text/plain": [
       "Sales Channel\n",
       "In-Store       3298\n",
       "Online         2425\n",
       "Distributor    1375\n",
       "Wholesale       893\n",
       "Name: count, dtype: int64"
      ]
     },
     "execution_count": 10,
     "metadata": {},
     "output_type": "execute_result"
    }
   ],
   "source": [
    "dataset['Sales Channel'].value_counts()"
   ]
  },
  {
   "cell_type": "code",
   "execution_count": 11,
   "id": "c22db22e-e159-4afc-becf-eed2c9fc231a",
   "metadata": {},
   "outputs": [],
   "source": [
    "#dataset['Sales Channel'].unique()"
   ]
  },
  {
   "cell_type": "code",
   "execution_count": 12,
   "id": "a6a7c60b-5a64-4e99-9238-a8090aef257f",
   "metadata": {},
   "outputs": [
    {
     "data": {
      "image/png": "[encoded data removed]",
      "text/plain": [
       "<Figure size 600x500 with 1 Axes>"
      ]
     },
     "metadata": {},
     "output_type": "display_data"
    }
   ],
   "source": [
    "plt.figure(figsize=(6,5))\n",
    "sns.countplot(x=\"Sales Channel\",data=dataset)\n",
    "plt.title(\"Count of Sales Channel\")\n",
    "plt.savefig(\"Count of Sales Channel.jpg\")\n",
    "plt.show()"
   ]
  },
  {
   "cell_type": "markdown",
   "id": "d2018832-bf71-4c97-b4a2-450b30e1b665",
   "metadata": {},
   "source": [
    "Sales Channel"
   ]
  },
  {
   "cell_type": "markdown",
   "id": "ec0b8538-497e-4c97-a0fa-b6a35c4a4984",
   "metadata": {},
   "source": [
    "Sales Channel"
   ]
  },
  {
   "cell_type": "code",
   "execution_count": 13,
   "id": "1ca848cf-3a7c-4d71-9f6d-f175981bad19",
   "metadata": {},
   "outputs": [],
   "source": [
    "x = dataset['Sales Channel'].value_counts().index\n",
    "y = dataset['Sales Channel'].value_counts().values"
   ]
  },
  {
   "cell_type": "code",
   "execution_count": 14,
   "id": "c8e78003-350f-41bc-bcd7-ec75046d4de9",
   "metadata": {},
   "outputs": [
    {
     "data": {
      "image/png": "[encoded data removed]",
      "text/plain": [
       "<Figure size 640x480 with 1 Axes>"
      ]
     },
     "metadata": {},
     "output_type": "display_data"
    }
   ],
   "source": [
    "plt.figure(figure=(5,4))\n",
    "plt.pie(y,labels=x,startangle=90, autopct=\"%0.2f%%\")\n",
    "plt.legend(loc=3)\n",
    "plt.show()"
   ]
  },
  {
   "cell_type": "code",
   "execution_count": 15,
   "id": "23dfac38-3d36-409f-abf6-8af3f5f83bf4",
   "metadata": {},
   "outputs": [],
   "source": [
    "# Procure date and Order date"
   ]
  },
  {
   "cell_type": "code",
   "execution_count": 16,
   "id": "ef66cd01-d7e2-44e8-a181-336b779e6042",
   "metadata": {},
   "outputs": [
    {
     "data": {
      "text/plain": [
       "WarehouseCode\n",
       "WARE-NMK1003    2505\n",
       "WARE-PUJ1005    1451\n",
       "WARE-UHY1004    1265\n",
       "WARE-XYS1001    1222\n",
       "WARE-MKL1006     857\n",
       "WARE-NBV1002     691\n",
       "Name: count, dtype: int64"
      ]
     },
     "execution_count": 16,
     "metadata": {},
     "output_type": "execute_result"
    }
   ],
   "source": [
    "dataset['WarehouseCode'].value_counts()"
   ]
  },
  {
   "cell_type": "code",
   "execution_count": 17,
   "id": "00683f9b-6ce1-44ac-9392-2ca1963e5ea4",
   "metadata": {},
   "outputs": [
    {
     "data": {
      "text/plain": [
       "Order Quantity\n",
       "8    1068\n",
       "3    1014\n",
       "1    1014\n",
       "7    1009\n",
       "4     996\n",
       "5     977\n",
       "2     962\n",
       "6     951\n",
       "Name: count, dtype: int64"
      ]
     },
     "execution_count": 17,
     "metadata": {},
     "output_type": "execute_result"
    }
   ],
   "source": [
    "dataset['Order Quantity'].value_counts()"
   ]
  },
  {
   "cell_type": "code",
   "execution_count": 20,
   "id": "0954392d-5e6d-4382-8bd1-c81bf19d69d7",
   "metadata": {},
   "outputs": [
    {
     "data": {
      "text/plain": [
       "_SalesTeamID\n",
       "13    340\n",
       "18    316\n",
       "8     315\n",
       "12    314\n",
       "7     303\n",
       "1     302\n",
       "16    298\n",
       "3     296\n",
       "21    296\n",
       "26    296\n",
       "19    293\n",
       "4     292\n",
       "11    289\n",
       "20    288\n",
       "9     285\n",
       "24    284\n",
       "5     283\n",
       "23    277\n",
       "17    275\n",
       "27    274\n",
       "15    271\n",
       "22    266\n",
       "6     265\n",
       "14    261\n",
       "10    260\n",
       "25    259\n",
       "28    247\n",
       "2     246\n",
       "Name: count, dtype: int64"
      ]
     },
     "execution_count": 20,
     "metadata": {},
     "output_type": "execute_result"
    }
   ],
   "source": [
    "dataset['_SalesTeamID'].value_counts()"
   ]
  },
  {
   "cell_type": "code",
   "execution_count": 18,
   "id": "b2662799-423d-4c2c-9ab1-a65afaa33006",
   "metadata": {},
   "outputs": [
    {
     "data": {
      "image/png": "[encoded data removed]",
      "text/plain": [
       "<Figure size 600x500 with 1 Axes>"
      ]
     },
     "metadata": {},
     "output_type": "display_data"
    }
   ],
   "source": [
    "plt.figure(figsize=(6,5))\n",
    "sns.countplot(x=\"Order Quantity\",data=dataset)\n",
    "plt.title(\"Order Quantity\")\n",
    "plt.savefig(\"Order Quantity.jpg\")\n",
    "plt.show()"
   ]
  },
  {
   "cell_type": "code",
   "execution_count": null,
   "id": "d142e097-469a-4060-bf99-bb10a146a1a7",
   "metadata": {},
   "outputs": [],
   "source": []
  }
 ],
 "metadata": {
  "kernelspec": {
   "display_name": "Python 3 (ipykernel)",
   "language": "python",
   "name": "python3"
  },
  "language_info": {
   "codemirror_mode": {
    "name": "ipython",
    "version": 3
   },
   "file_extension": ".py",
   "mimetype": "text/x-python",
   "name": "python",
   "nbconvert_exporter": "python",
   "pygments_lexer": "ipython3",
   "version": "3.11.7"
  }
 },
 "nbformat": 4,
 "nbformat_minor": 5
}
